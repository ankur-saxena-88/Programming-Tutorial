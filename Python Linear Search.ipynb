{
 "cells": [
  {
   "cell_type": "markdown",
   "metadata": {},
   "source": [
    "# Linear Search in Python"
   ]
  },
  {
   "cell_type": "markdown",
   "metadata": {},
   "source": [
    "<h3> Inside this tutorial </h3> \n",
    "\n",
    "<h4> 1. What is Linear Search in Python </h4> \n",
    "<h4> 2. Linear Search Algorithm </h4> \n",
    "<h4> 3. Python Linear Search Program </h4>"
   ]
  },
  {
   "cell_type": "markdown",
   "metadata": {},
   "source": [
    "<h3> 1. What is Linear Search in Python </h3>"
   ]
  },
  {
   "cell_type": "markdown",
   "metadata": {},
   "source": [
    "1. Linear search is a method to find elements within a list.\n",
    "2. Also known as a sequential searching algorithm.\n",
    "3. It is just a simple searching algorithm.\n",
    "4. The linear search algorithm begins from the first element of the list.\n",
    "5. It starts checking every element untill the expected element is found.\n",
    "6. If the element is not found in the list, the algorithm traverses the whole list and return \"element not found\"."
   ]
  },
  {
   "cell_type": "markdown",
   "metadata": {},
   "source": [
    "<h3> 2. Linear Search Algorithm </h3>"
   ]
  },
  {
   "cell_type": "markdown",
   "metadata": {},
   "source": [
    "There is a list of n elements and key value to be searched. Below is the linear search algorithm:"
   ]
  },
  {
   "cell_type": "code",
   "execution_count": null,
   "metadata": {},
   "outputs": [],
   "source": [
    "LinearSearch (list, key):\n",
    "    for each item in the list:\n",
    "        if item == value:\n",
    "            return its index position\n",
    "    return -1"
   ]
  },
  {
   "cell_type": "markdown",
   "metadata": {},
   "source": [
    "<h3> 3. Python Linear Search Program </h3>"
   ]
  },
  {
   "cell_type": "code",
   "execution_count": 10,
   "metadata": {},
   "outputs": [
    {
     "name": "stdout",
     "output_type": "stream",
     "text": [
      "Element found at index:  2\n"
     ]
    }
   ],
   "source": [
    "# Program start\n",
    "\n",
    "def linearSearch (list1, n, key):\n",
    "    # Searching list1 sequentially\n",
    "    for i in range (0, n):\n",
    "        if (list1[i] == key):\n",
    "            return i\n",
    "    return -1\n",
    "\n",
    "list1 = [4,2,7,1,8,5,9,6,3]\n",
    "key = 7\n",
    "\n",
    "n = len (list1)\n",
    "result = linearSearch (list1, n, key)\n",
    "\n",
    "if (result == -1):\n",
    "    print (\"Element not found!\\n\")\n",
    "else:\n",
    "    print (\"Element found at index: \", result)\n",
    "\n",
    "# Program end"
   ]
  }
 ],
 "metadata": {
  "kernelspec": {
   "display_name": "Python 3",
   "language": "python",
   "name": "python3"
  },
  "language_info": {
   "codemirror_mode": {
    "name": "ipython",
    "version": 3
   },
   "file_extension": ".py",
   "mimetype": "text/x-python",
   "name": "python",
   "nbconvert_exporter": "python",
   "pygments_lexer": "ipython3",
   "version": "3.7.3"
  }
 },
 "nbformat": 4,
 "nbformat_minor": 2
}
